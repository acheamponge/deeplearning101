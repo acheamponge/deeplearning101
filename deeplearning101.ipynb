{
 "cells": [
  {
   "cell_type": "markdown",
   "metadata": {},
   "source": [
    "! Building basic blocks with Numpy"
   ]
  },
  {
   "cell_type": "markdown",
   "metadata": {},
   "source": [
    "1. Sigmoid Function"
   ]
  },
  {
   "cell_type": "code",
   "execution_count": 1,
   "metadata": {},
   "outputs": [
    {
     "name": "stdout",
     "output_type": "stream",
     "text": [
      "0.9525741268224334\n"
     ]
    }
   ],
   "source": [
    "# sigmoid(x) is the activation function that introduces nonlinearity to the neuron. Between 0 and 1 with 0.5 crossing the 0x\n",
    "\n",
    "# sigmoid = 1 / (1+e**-x)\n",
    "\n",
    "import math\n",
    "\n",
    "def basic_sigmoid(x):\n",
    "\n",
    "    return 1 / (1 + math.exp(-x))\n",
    "\n",
    "print(basic_sigmoid(3))"
   ]
  },
  {
   "cell_type": "code",
   "execution_count": 5,
   "metadata": {},
   "outputs": [
    {
     "data": {
      "text/plain": [
       "array([0.73105858, 0.88079708, 0.95257413])"
      ]
     },
     "execution_count": 5,
     "metadata": {},
     "output_type": "execute_result"
    }
   ],
   "source": [
    "# numpy sigmoid\n",
    "import numpy as np\n",
    "\n",
    "def numpy_sigmoid(x):\n",
    "    x = np.array(x)\n",
    "    return 1/ (1+ np.exp(-x))\n",
    "\n",
    "\n",
    "numpy_sigmoid([1,2,3])\n"
   ]
  },
  {
   "cell_type": "code",
   "execution_count": null,
   "metadata": {},
   "outputs": [],
   "source": []
  }
 ],
 "metadata": {
  "kernelspec": {
   "display_name": "Python 3",
   "language": "python",
   "name": "python3"
  },
  "language_info": {
   "codemirror_mode": {
    "name": "ipython",
    "version": 3
   },
   "file_extension": ".py",
   "mimetype": "text/x-python",
   "name": "python",
   "nbconvert_exporter": "python",
   "pygments_lexer": "ipython3",
   "version": "3.9.6"
  }
 },
 "nbformat": 4,
 "nbformat_minor": 2
}
